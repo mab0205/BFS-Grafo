{
 "cells": [
  {
   "cell_type": "code",
   "execution_count": 13,
   "metadata": {},
   "outputs": [
    {
     "name": "stdout",
     "output_type": "stream",
     "text": [
      "[[0. 0. 0. 0.]\n",
      " [0. 0. 0. 0.]\n",
      " [0. 0. 0. 0.]\n",
      " [0. 0. 0. 0.]]\n"
     ]
    }
   ],
   "source": [
    "import numpy as np\n",
    "x = 4\n",
    "y = 4\n",
    "a = np.zeros((x,y), dtype=np.float64)\n",
    "print(a)"
   ]
  },
  {
   "cell_type": "markdown",
   "metadata": {},
   "source": [
    "## Clase Grafo\n",
    "* Uso de Matriz de Adjacencia y se marca con 1 en cada interseccion entre x & y \n",
    "* Grafo, constructor y 2 funciones\n",
    "* funcion BFS"
   ]
  },
  {
   "cell_type": "code",
   "execution_count": 14,
   "metadata": {},
   "outputs": [],
   "source": [
    "class Grafo:\n",
    "#self nombre del constructor \n",
    "  def __init__(grafo, vertices):\n",
    "    grafo.Numvertices = vertices\n",
    "    grafo.matrizAdj = np.zeros((vertices,vertices), dtype=np.float64)\n",
    "\n",
    "  def adicionarAresta(grafo, v, v2, aresta):\n",
    "        grafo.matrizAdj[v, v2] = aresta\n",
    "        #if grafo.matrizAdj[v2, v] == 0:\n",
    "            # grafo.matrizAdj[v2, v] = 1\n",
    "        \n",
    "  def imprimeGrafo(grafo):\n",
    "        for i in range(grafo.Numvertices):\n",
    "            #print(i)\n",
    "            for j in range(grafo.Numvertices):\n",
    "                print( \"->\")\n",
    "                print(grafo.matrizAdj[i,j], end=\"\")                    \n",
    "            print(\"\\n\")\n",
    "            \n",
    "  def BFS(grafo, start):\n",
    "        visited = [False] * grafo.Numvertices\n",
    "        q = [start]\n",
    "        visited[start] = True\n",
    " \n",
    "        while q:\n",
    "            vis = q[0]\n",
    " \n",
    "            # Print current node\n",
    "            print(vis, end = ' ')\n",
    "            q.pop(0)\n",
    "             \n",
    "\n",
    "            for i in range(grafo.Numvertices):\n",
    "                if (grafo.matrizAdj[vis][i] == 1 and\n",
    "                      (not visited[i])):\n",
    "                           \n",
    "                    q.append(i)\n",
    "                    visited[i] = True  "
   ]
  },
  {
   "cell_type": "markdown",
   "metadata": {},
   "source": [
    "* Main Ejecutar todo el codigo"
   ]
  },
  {
   "cell_type": "code",
   "execution_count": 15,
   "metadata": {},
   "outputs": [
    {
     "name": "stdout",
     "output_type": "stream",
     "text": [
      "->\n",
      "0.0->\n",
      "1.0->\n",
      "1.0->\n",
      "0.0\n",
      "\n",
      "->\n",
      "0.0->\n",
      "0.0->\n",
      "0.0->\n",
      "1.0\n",
      "\n",
      "->\n",
      "0.0->\n",
      "0.0->\n",
      "0.0->\n",
      "0.0\n",
      "\n",
      "->\n",
      "0.0->\n",
      "0.0->\n",
      "0.0->\n",
      "0.0\n",
      "\n",
      "[[0. 1. 1. 0.]\n",
      " [0. 0. 0. 1.]\n",
      " [0. 0. 0. 0.]\n",
      " [0. 0. 0. 0.]]\n",
      "0 1 2 3 "
     ]
    }
   ],
   "source": [
    "p1 = Grafo(4)\n",
    "p1.adicionarAresta(0, 1, 1)\n",
    "p1.adicionarAresta(0, 2, 1)\n",
    "p1.adicionarAresta(1, 3, 1)\n",
    "p1.imprimeGrafo()\n",
    "print(p1.matrizAdj)\n",
    "p1.BFS(0)"
   ]
  }
 ],
 "metadata": {
  "kernelspec": {
   "display_name": "Python 3.9.12 ('base')",
   "language": "python",
   "name": "python3"
  },
  "language_info": {
   "codemirror_mode": {
    "name": "ipython",
    "version": 3
   },
   "file_extension": ".py",
   "mimetype": "text/x-python",
   "name": "python",
   "nbconvert_exporter": "python",
   "pygments_lexer": "ipython3",
   "version": "3.9.12"
  },
  "orig_nbformat": 4,
  "vscode": {
   "interpreter": {
    "hash": "a1d387925892fc7fcb4725e0631a5c5e244fddf1bc8bf25e3f6261922298782b"
   }
  }
 },
 "nbformat": 4,
 "nbformat_minor": 2
}
